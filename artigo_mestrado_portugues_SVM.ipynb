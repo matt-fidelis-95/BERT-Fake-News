{
  "nbformat": 4,
  "nbformat_minor": 0,
  "metadata": {
    "colab": {
      "name": "artigo_mestrado_portugues_SVM.ipynb",
      "provenance": [],
      "authorship_tag": "ABX9TyNhc2shuzhUrDa86HDM2KEP",
      "include_colab_link": true
    },
    "kernelspec": {
      "name": "python3",
      "display_name": "Python 3"
    }
  },
  "cells": [
    {
      "cell_type": "markdown",
      "metadata": {
        "id": "view-in-github",
        "colab_type": "text"
      },
      "source": [
        "<a href=\"https://colab.research.google.com/github/matt-fidelis-95/BERT-Fake-News/blob/master/artigo_mestrado_portugues_SVM.ipynb\" target=\"_parent\"><img src=\"https://colab.research.google.com/assets/colab-badge.svg\" alt=\"Open In Colab\"/></a>"
      ]
    },
    {
      "cell_type": "code",
      "metadata": {
        "id": "Cg2AZFcEgCFv",
        "colab_type": "code",
        "colab": {
          "base_uri": "https://localhost:8080/",
          "height": 145
        },
        "outputId": "59e21ff6-cf1f-43bf-be05-12bd7b963545"
      },
      "source": [
        "import pandas as pd\n",
        "import numpy as np\n",
        "import nltk\n",
        "from sklearn.metrics import f1_score, accuracy_score , recall_score , precision_score\n",
        "from nltk.tokenize import word_tokenize\n",
        "from nltk.corpus import stopwords\n",
        "from nltk.stem import RSLPStemmer\n",
        "from sklearn.preprocessing import LabelEncoder\n",
        "from collections import defaultdict\n",
        "from nltk.corpus import wordnet as wn\n",
        "from sklearn.feature_extraction.text import TfidfVectorizer\n",
        "from sklearn import model_selection, svm\n",
        "from sklearn.metrics import accuracy_score\n",
        "nltk.download('rslp')\n",
        "nltk.download('punkt')\n",
        "nltk.download('stopwords')"
      ],
      "execution_count": null,
      "outputs": [
        {
          "output_type": "stream",
          "text": [
            "[nltk_data] Downloading package rslp to /root/nltk_data...\n",
            "[nltk_data]   Unzipping stemmers/rslp.zip.\n",
            "[nltk_data] Downloading package punkt to /root/nltk_data...\n",
            "[nltk_data]   Unzipping tokenizers/punkt.zip.\n",
            "[nltk_data] Downloading package stopwords to /root/nltk_data...\n",
            "[nltk_data]   Unzipping corpora/stopwords.zip.\n"
          ],
          "name": "stdout"
        },
        {
          "output_type": "execute_result",
          "data": {
            "text/plain": [
              "True"
            ]
          },
          "metadata": {
            "tags": []
          },
          "execution_count": 1
        }
      ]
    },
    {
      "cell_type": "code",
      "metadata": {
        "id": "65zbQXBarzBM",
        "colab_type": "code",
        "colab": {
          "base_uri": "https://localhost:8080/",
          "height": 128
        },
        "outputId": "f0a53c81-62b7-41b5-d63e-9e3d43e92281"
      },
      "source": [
        "import os\n",
        "from google.colab import drive\n",
        "drive.mount('/content/drive')"
      ],
      "execution_count": null,
      "outputs": [
        {
          "output_type": "stream",
          "text": [
            "Go to this URL in a browser: https://accounts.google.com/o/oauth2/auth?client_id=947318989803-6bn6qk8qdgf4n4g3pfee6491hc0brc4i.apps.googleusercontent.com&redirect_uri=urn%3aietf%3awg%3aoauth%3a2.0%3aoob&response_type=code&scope=email%20https%3a%2f%2fwww.googleapis.com%2fauth%2fdocs.test%20https%3a%2f%2fwww.googleapis.com%2fauth%2fdrive%20https%3a%2f%2fwww.googleapis.com%2fauth%2fdrive.photos.readonly%20https%3a%2f%2fwww.googleapis.com%2fauth%2fpeopleapi.readonly\n",
            "\n",
            "Enter your authorization code:\n",
            "··········\n",
            "Mounted at /content/drive\n"
          ],
          "name": "stdout"
        }
      ]
    },
    {
      "cell_type": "code",
      "metadata": {
        "id": "4Nib3GS3rzFm",
        "colab_type": "code",
        "colab": {}
      },
      "source": [
        "os.chdir('/content/drive/My Drive/script_python')"
      ],
      "execution_count": null,
      "outputs": []
    },
    {
      "cell_type": "code",
      "metadata": {
        "id": "PInui_FIgXO-",
        "colab_type": "code",
        "colab": {}
      },
      "source": [
        "\n",
        "from tqdm import tqdm\n",
        "\n",
        "from sklearn.model_selection import train_test_split\n",
        "\n",
        "def fnc(path):\n",
        "\n",
        "    h = []\n",
        "    b = []\n",
        "    l = []\n",
        "    with open(path,encoding=\"ISO-8859-1\") as fdata:  \n",
        "        data = fdata.readlines()\n",
        "    for line in data:\n",
        "        stripped_line = line.strip()\n",
        "        li = line.split(';')\n",
        "        if(len(li) == 3):\n",
        "          rm_brkl = (li[2]).strip()\n",
        "          if rm_brkl == '-1':\n",
        "            l.append(0)\n",
        "          else:\n",
        "            l.append(1)\n",
        "          h.append(li[0])\n",
        "          b.append(li[1])\n",
        "\n",
        "    return h, b, l\n",
        "\n",
        "#headlines, bodies, labels = fnc('Facom_Vitor.csv')\n",
        "headlines_aux, bodies_aux, labels_aux = fnc('brCorpus.csv')\n",
        "#headlines.extend(headlines_aux)\n",
        "#bodies.extend(bodies_aux)\n",
        "#labels.extend(labels_aux)\n",
        "list_of_tuples = list(zip(headlines_aux, bodies_aux, labels_aux))#list_of_tuples = list(zip(headlines, bodies, labels))\n",
        "Corpus = pd.DataFrame(list_of_tuples, columns=['id', 'text', 'label'])\n",
        "\n",
        "\n",
        "# Passo - a : Remove linhas vazias.\n",
        "Corpus['text'].dropna(inplace=True)\n",
        "# Passo - b : Converte todo o texto para minusculo. \n",
        "Corpus['text'] = [entry.lower() for entry in Corpus['text']]\n",
        "# Passo - c : Tokenizacao : Cada entrada do corpus e quebrada em um conjunto de palavras\n",
        "Corpus['text']= [word_tokenize(entry, language = 'portuguese') for entry in Corpus['text']]\n",
        "# Passo - d : Remove palavras de parada, nao numericas e faz o Stemming.\n",
        "\n",
        "for index,entry in enumerate(Corpus['text']):\n",
        "    Final_words = []\n",
        "    # Inicializa o RSLPStemmer() que faz o stemming para portugues\n",
        "    word_RSLPStemmer = RSLPStemmer()\n",
        "    for word in entry:\n",
        "        # Checa palavras de parada e considera apenas o alfabeto\n",
        "        if word not in stopwords.words('portuguese') and word.isalpha():\n",
        "            word_Final = word_RSLPStemmer.stem(word)\n",
        "            Final_words.append(word_Final)\n",
        "    # O conjunto final de palavras para cada iteracao e salvo em 'text_final'\n",
        "    Corpus.loc[index,'text_final'] = str(Final_words)"
      ],
      "execution_count": null,
      "outputs": []
    },
    {
      "cell_type": "code",
      "metadata": {
        "id": "Hogl2fUfgbB1",
        "colab_type": "code",
        "colab": {}
      },
      "source": [
        "Train_X, Test_X, Train_Y, Test_Y = model_selection.train_test_split(Corpus['text_final'],Corpus['label'],test_size=0.3, random_state=1234)"
      ],
      "execution_count": null,
      "outputs": []
    },
    {
      "cell_type": "code",
      "metadata": {
        "id": "9ptjZ4Ecgcp-",
        "colab_type": "code",
        "colab": {}
      },
      "source": [
        "Encoder = LabelEncoder()\n",
        "Train_Y = Encoder.fit_transform(Train_Y)\n",
        "Test_Y = Encoder.fit_transform(Test_Y)"
      ],
      "execution_count": null,
      "outputs": []
    },
    {
      "cell_type": "code",
      "metadata": {
        "id": "PZFDHFTkgeOd",
        "colab_type": "code",
        "colab": {}
      },
      "source": [
        "Tfidf_vect = TfidfVectorizer(ngram_range=(1,2),max_df= 0.85, min_df= 0.01)#max_features=5000)\n",
        "Tfidf_vect.fit(Corpus['text_final'])\n",
        "Train_X_Tfidf = Tfidf_vect.transform(Train_X)\n",
        "Test_X_Tfidf = Tfidf_vect.transform(Test_X)"
      ],
      "execution_count": null,
      "outputs": []
    },
    {
      "cell_type": "code",
      "metadata": {
        "id": "ExjSQpUEggRu",
        "colab_type": "code",
        "colab": {
          "base_uri": "https://localhost:8080/",
          "height": 55
        },
        "outputId": "fdce4177-1aea-48e4-c9ab-310772ade4e1"
      },
      "source": [
        "print(Tfidf_vect.vocabulary_)"
      ],
      "execution_count": null,
      "outputs": [
        {
          "output_type": "stream",
          "text": [
            "{'text': 1387, 'promot': 1136, 'ped': 1014, 'lul': 816, 'petist': 1038, 'mp': 894, 'expresid': 572, 'val': 1434, 'forçõ': 632, 'grup': 677, 'pesso': 1036, 'promov': 1137, 'contr': 313, 'luiz': 814, 'silv': 1310, 'mulh': 899, 'maris': 842, 'letçðc': 793, 'luçð': 823, 'filh': 611, 'velh': 1442, 'casal': 219, 'paul': 1008, 'preven': 1107, 'pt': 1157, 'net': 930, 'empreit': 498, 'pinh': 1044, 'oa': 953, 'outr': 981, 'doi': 458, 'investig': 739, 'cas': 217, 'expresid luiz': 574, 'luiz lul': 815, 'lul silv': 819, 'maris letçðc': 843, 'don': 461, 'morr': 887, 'sp': 1332, 'ano': 75, 'intern': 733, 'desd': 397, 'dia': 428, 'jan': 749, 'sofr': 1324, 'acompanh': 19, 'nest': 922, 'sextaf': 1302, 'hospit': 691, 'ter': 1373, 'acid': 16, 'provoc': 1150, 'fot': 636, 'segu': 1272, 'protocol': 1146, 'ofic': 965, 'mort': 888, 'submet': 1336, 'test': 1385, 'prim': 1110, 'ocorr': 960, 'çÿ': 1486, 'segund': 1275, 'determin': 417, 'nest sextaf': 928, 'expresid lul': 575, 'pf': 1041, 'diz': 454, 'fez': 608, 'fas': 590, 'lav': 783, 'jat': 752, 'recurs': 1193, 'faz': 593, 'menos': 857, 'diss': 447, 'deleg': 375, 'aind': 45, 'assim': 119, 'neg': 916, 'hav': 682, 'polçðc': 1065, 'feder': 598, 'afirm': 36, 'feit': 602, 'dua': 466, 'nov': 947, 'sobr': 1319, 'pod': 1056, 'difer': 430, 'us': 1425, 'mesm': 863, 'agent': 39, 'açõçæ': 149, 'pres': 1093, 'exdeput': 558, 'suspeit': 1351, 'receb': 1184, 'mil': 868, 'propin': 1141, 'vej': 1441, 'informaçõçæ': 719, 'abaix': 0, 'fal': 582, 'porqu': 1071, 'falt': 585, 'ord': 976, 'limit': 804, 'gent': 655, 'obrig': 957, 'tud': 1416, 'temp': 1368, 'nçü': 952, 'trabalh': 1397, 'justiçõ': 775, 'tod': 1392, 'antig': 80, 'precis': 1086, 'detalh': 416, 'entrev': 514, 'curitib': 348, 'lav jat': 785, 'polçðc feder': 1067, 'pod ter': 1059, 'uso': 1428, 'perfil': 1026, 'campanh': 199, 'exempl': 561, 'futur': 646, 'presid': 1095, 'tse': 1414, 'bbc': 163, 'brasil': 180, 'mostr': 889, 'fals': 584, 'sid': 1305, 'eleiçõçæ': 486, 'eleitor': 484, 'comand': 261, 'forçõataref': 634, 'desafi': 391, 'frent': 641, 'taref': 1363, 'fiscal': 619, 'compr': 275, 'vot': 1473, 'financ': 616, 'internet': 735, 'torn': 1395, 'princip': 1112, 'revel': 1238, 'deu': 418, 'orig': 980, 'report': 1221, 'democrac': 379, 'empr': 496, 'sed': 1270, 'rio': 1244, 'cham': 231, 'cri': 333, 'possibil': 1076, 'repet': 1220, 'vem': 1443, 'grand': 671, 'ministr': 875, 'supr': 1347, 'tribun': 1406, 'stf': 1334, 'superi': 1344, 'fever': 607, 'candidat': 204, 'contrat': 315, 'red': 1195, 'soc': 1322, 'apur': 100, 'fat': 591, 'inclusiv': 713, 'dess': 404, 'outubr': 982, 'congress': 296, 'nacion': 907, 'polçð': 1063, 'pass': 1003, 'ser': 1291, 'proib': 1133, 'cunh': 346, 'lei': 790, 'autor': 140, 'rio jan': 1246, 'entrev çÿ': 515, 'ministr supr': 879, 'supr tribun': 1348, 'tribun feder': 1407, 'feder stf': 601, 'tribun superi': 1409, 'superi eleitor': 1345, 'eleitor tse': 485, 'red soc': 1196, 'congress nacion': 297, 'quintaf': 1178, 'mai': 828, 'boa': 172, 'noit': 935, 'aqu': 103, 'notçðc': 945, 'termin': 1377, 'beminform': 166, 'mal': 830, 'acab': 11, 'long': 812, 'depo': 385, 'mor': 885, 'aparec': 85, 'premi': 1089, 'sigil': 1306, 'levant': 795, 'sçü': 1357, 'quint': 1177, 'prepar': 1092, 'document': 456, 'mud': 896, 'carr': 213, 'vend': 1445, 'paçð': 1011, 'tir': 1390, 'segurançõ': 1278, 'mour': 892, 'cont': 310, 'milhçæ': 870, 'boa noit': 173, 'noit aqu': 936, 'aqu princip': 105, 'princip notçðc': 1113, 'notçðc termin': 946, 'termin dia': 1378, 'dia beminform': 429, 'çÿ justiçõ': 1487, 'us milhçæ': 1426, 'companh': 269, 'ajud': 46, 'fund': 644, 'sext': 1301, 'vçðt': 1478, 'brasçðl': 181, 'sempr': 1283, 'exerc': 562, 'fort': 631, 'dur': 468, 'quas': 1168, 'planalt': 1046, 'qualqu': 1164, 'assunt': 124, 'ouv': 983, 'tent': 1370, 'quant': 1165, 'imped': 707, 'convers': 318, 'invad': 737, 'fim': 613, 'seman': 1281, 'lul diz': 818, 'fim seman': 614, 'lçðd': 824, 'psdb': 1155, 'sai': 1261, 'defês': 367, 'tem': 1367, 'episçüdi': 519, 'mei': 849, 'not': 944, 'sen': 1284, 'parec': 997, 'exministr': 569, 'cult': 344, 'dar': 356, 'declaraçõçæ': 362, 'compromet': 276, 'govern': 667, 'apçü': 101, 'deix': 370, 'carg': 210, 'saiu': 1264, 'michel': 866, 'acus': 25, 'inter': 729, 'pessoal': 1037, 'geddel': 653, 'vie': 1463, 'lim': 802, 'secret': 1269, 'tucan': 1415, 'problem': 1116, 'enquant': 507, 'consider': 304, 'send': 1287, 'prest': 1101, 'cab': 187, 'natur': 913, 'set': 1298, 'avali': 144, 'absolut': 8, 'confiançõ': 291, 'bom': 177, 'declar': 361, 'divers': 451, 'vez': 1454, 'liber': 796, 'lux': 821, 'salv': 1266, 'ond': 970, 'apart': 87, 'famili': 587, 'atu': 137, 'junt': 771, 'cerc': 227, 'dez': 423, 'resolv': 1225, 'decid': 359, 'respons': 1228, 'conhec': 298, 'pouc': 1080, 'reforçõ': 1200, 'apoi': 92, 'impeachment': 705, 'apes': 90, 'process': 1118, 'dilm': 436, 'rousseff': 1256, 'saçðd': 1268, 'lev': 794, 'nad': 908, 'critic': 338, 'qu': 1161, 'presid michel': 1097, 'michel tem': 867, 'çÿ polçðc': 1489, 'presid tem': 1099, 'process impeachment': 1119, 'expresid dilm': 573, 'dilm rousseff': 437, 'civil': 245, 'indic': 715, 'hom': 688, 'juiz': 765, 'defend': 364, 'testemunh': 1386, 'confirm': 292, 'delegac': 376, 'envi': 517, 'profes': 1129, 'vai': 1432, 'respond': 1227, 'mant': 836, 'priv': 1114, 'encontr': 501, 'comprov': 278, 'crim': 335, 'barb': 156, 'especi': 536, 'atend': 129, 'inform': 718, 'vçðde': 1476, 'apreend': 95, 'garot': 651, 'depend': 384, 'menin': 856, 'apont': 93, 'polçðc civil': 1066, 'reform': 1199, 'aprov': 98, 'conjunt': 299, 'sab': 1260, 'consegu': 301, 'avançõ': 145, 'cert': 230, 'pont': 1069, 'permit': 1030, 'adiant': 27, 'segundaf': 1276, 'pod ser': 1058, 'afirm nest': 37, 'nest segundaf': 926, 'marçõ': 844, 'joesley': 755, 'batist': 162, 'exexecu': 564, 'ricard': 1243, 'ment': 859, 'acord': 21, 'solt': 1327, 'entreg': 513, 'deput': 386, 'imçüvel': 711, 'alv': 62, 'busc': 186, 'prov': 1147, 'continu': 312, 'viv': 1470, 'import': 708, 'bast': 160, 'praz': 1085, 'ileg': 699, 'mand': 832, 'dupl': 467, 'judic': 764, 'dev': 419, 'ato': 135, 'atual': 138, 'joesley batist': 756, 'acord premi': 22, 'juiz mor': 767, 'legisl': 789, 'jorg': 759, 'pmdb': 1053, 'julh': 769, 'dest': 405, 'mont': 884, 'peemedeb': 1016, 'identific': 696, 'transport': 1401, 'est': 541, 'exgovern': 565, 'procurad': 1122, 'chef': 234, 'com': 260, 'organiz': 978, 'dinh': 438, 'procur': 1121, 'cade': 191, 'terçõaf': 1384, 'blog': 171, 'pag': 986, 'caix': 194, 'fazend': 595, 'oper': 973, 'dela': 371, 'relat': 1211, 'inici': 721, 'part': 999, 'carl': 211, 'parlament': 998, 'total': 1396, 'veçðcul': 1455, 'norm': 940, 'solicit': 1326, 'mel': 850, 'edson': 474, 'ambos': 66, 'envolv': 518, 'combat': 262, 'desembarg': 399, 'gom': 665, 'rela': 1208, 'region': 1202, 'orden': 977, 'seil': 1280, 'quatr': 1169, 'fçðs': 647, 'jurçðd': 772, 'altern': 60, 'inic': 720, 'post': 1079, 'crimin': 336, 'result': 1232, 'investigaçõçæ': 741, 'mes': 862, 'quebr': 1170, 'nest terçõaf': 929, 'forçõataref lav': 635, 'tribun region': 1408, 'region feder': 1203, 'lav dinh': 784, 'eletrçïn': 487, 'mg': 865, 'med': 848, 'const': 305, 'prejuçðz': 1088, 'milit': 871, 'banc': 154, 'ataqu': 128, 'registr': 1204, 'min': 873, 'cidad': 239, 'reclam': 1189, 'aument': 139, 'prend': 1090, 'dan': 353, 'patrimçïni': 1007, 'ating': 132, 'estabelec': 543, 'dad': 352, 'dezembr': 424, 'pm': 1052, 'equip': 520, 'instal': 722, 'assess': 117, 'imprens': 710, 'local': 810, 'client': 249, 'abert': 3, 'possçð': 1078, 'cinc': 242, 'unidad': 1422, 'express': 576, 'oferec': 964, 'comerc': 265, 'fic': 609, 'acontec': 20, 'polçðc milit': 1068, 'cerc mil': 228, 'pens': 1020, 'acredit': 23, 'terr': 1379, 'plan': 1045, 'ach': 15, 'escol': 525, 'engan': 505, 'bem': 165, 'teor': 1371, 'conseg': 300, 'glob': 663, 'sol': 1325, 'prçüx': 1153, 'dentr': 381, 'men': 854, 'pergunt': 1027, 'facebook': 580, 'aval': 143, 'entr': 512, 'membr': 853, 'tip': 1389, 'canal': 202, 'discut': 444, 'final': 615, 'agost': 42, 'mov': 893, 'unid': 1421, 'supost': 1346, 'cost': 330, 'geral': 657, 'far': 589, 'est unid': 542, 'hor': 690, 'agend': 38, 'analis': 72, 'bilhçæ': 170, 'real': 1181, 'emend': 493, 'ali': 56, 'recorr': 1192, 'passiv': 1004, 'public': 1158, 'destac': 410, 'divulg': 453, 'pesquis': 1035, 'histçür': 685, 'institut': 725, 'inçðci': 742, 'apen': 89, 'entrevist': 516, 'esforçõ': 531, 'dispar': 445, 'contr presid': 314, 'govern tem': 670, 'par': 995, 'quartaf': 1167, 'julg': 768, 'fern': 604, 'cort': 329, 'naquel': 909, 'man': 831, 'ampl': 70, 'agor': 41, 'sentençõ': 1290, 'fundament': 645, 'form': 629, 'sufici': 1338, 'nest quartaf': 924, 'vai ser': 1433, 'core': 322, 'nort': 941, 'mçðssil': 906, 'lançõ': 782, 'capaz': 207, 'territçüri': 1381, 'americ': 68, 'represent': 1222, 'perig': 1028, 'program': 1132, 'arm': 109, 'nortecore': 943, 'conselh': 302, 'onu': 972, 'reun': 1237, 'emis': 494, 'tv': 1418, 'anunci': 84, 'model': 882, 'balçðs': 153, 'alcançõ': 48, 'setembr': 1299, 'eua': 551, 'donald': 462, 'trump': 1413, 'list': 807, 'paçðs': 1012, 'washington': 1479, 'terror': 1382, 'terçõ': 1383, 'mar': 837, 'km': 780, 'moment': 883, 'regim': 1201, 'costum': 331, 'apresent': 97, 'tom': 1394, 'kim': 778, 'jongun': 758, 'autoriz': 142, 'pyongyang': 1160, 'assist': 121, 'sucess': 1337, 'realiz': 1182, 'caus': 221, 'complet': 272, 'nucle': 949, 'constru': 307, 'mçðssel': 905, 'comunic': 281, 'lid': 798, 'core nort': 323, 'donald trump': 463, 'kim jongun': 779, 'desvi': 414, 'natal': 912, 'henriqu': 684, 'eduard': 476, 'bomb': 178, 'acusaçõçæ': 26, 'obr': 956, 'esquem': 539, 'descobert': 394, 'invest': 738, 'regr': 1205, 'jog': 757, 'estatal': 545, 'negçüci': 919, 'econçïm': 473, 'estim': 546, 'consum': 309, 'govern dilm': 668, 'vere': 1451, 'projet': 1134, 'cheg': 235, 'cient': 240, 'baix': 152, 'produt': 1127, 'polic': 1062, 'municip': 901, 'façõ': 596, 'perçðod': 1033, 'encaminh': 499, 'cad': 189, 'respost': 1229, 'mell': 852, 'oit': 966, 'maior': 829, 'conced': 283, 'figur': 610, 'possu': 1077, 'lembr': 792, 'si': 1304, 'sim': 1311, 'di': 427, 'assust': 125, 'peg': 1017, 'compar': 270, 'clar': 247, 'trat': 1402, 'serv': 1296, 'cumpr': 345, 'signific': 1309, 'bas': 158, 'aceit': 12, 'elei': 482, 'ano pass': 76, 'mund': 900, 'event': 553, 'debat': 358, 'qual': 1163, 'dat': 357, 'paut': 1009, 'comemor': 263, 'naçõçæ': 914, 'relatçüri': 1212, 'çðntegr': 1484, 'tend': 1369, 'emb': 491, 'indçðci': 716, 'econom': 472, 'desenvolv': 401, 'var': 1437, 'enfrent': 504, 'municçðpi': 902, 'reconhec': 1190, 'distrit': 448, 'nest quintaf': 925, 'govern feder': 669, 'distrit feder': 449, 'advog': 31, 'delaçõçæ': 372, 'jb': 753, 'entidad': 511, 'algum': 55, 'nest seman': 927, 'dest ano': 406, 'prefeit': 1087, 'eleit': 483, 'dem': 377, 'rodrig': 1251, 'descart': 393, 'melhor': 851, 'ide': 695, 'obje': 954, 'poss': 1075, 'camp': 198, 'começõ': 268, 'hoj': 687, 'entend': 510, 'exist': 568, 'açð': 148, 'cresc': 332, 'disput': 446, 'portant': 1074, 'coloc': 258, 'nom': 938, 'manifest': 834, 'dit': 450, 'rodrig mai': 1253, 'desempreg': 400, 'merc': 860, 'fech': 597, 'port': 1072, 'volt': 1471, 'assum': 123, 'reserv': 1224, 'pai': 988, 'lut': 820, 'agred': 43, 'direit': 440, 'mudançõ': 897, 'sex': 1300, 'preocup': 1091, 'am': 63, 'famçðl': 588, 'escolh': 526, 'poi': 1061, 'privilegi': 1115, 'ensin': 508, 'braçõ': 182, 'err': 521, 'boc': 174, 'contat': 311, 'alt': 58, 'amig': 69, 'ness': 921, 'vir': 1465, 'legal': 787, 'ofens': 963, 'comport': 274, 'gost': 666, 'respeit': 1226, 'desculp': 396, 'russ': 1259, 'perd': 1025, 'esp': 532, 'troc': 1411, 'rein': 1206, 'visit': 1466, 'grav': 672, 'relaçõçæ': 1213, 'vid': 1462, 'talv': 1359, 'doming': 460, 'cobr': 253, 'alg': 54, 'culp': 343, 'integr': 728, 'suspend': 1352, 'benefçðci': 168, 'afast': 34, 'pmdbrj': 1054, 'popul': 1070, 'mandat': 833, 'suspens': 1353, 'var feder': 1438, 'eduard cunh': 477, 'cunh pmdbrj': 347, 'faz part': 594, 'apçü ser': 102, 'df': 426, 'criançõ': 334, 'ver': 1447, 'funcion': 643, 'revist': 1239, 'cris': 337, 'parc': 996, 'ont': 971, 'acim': 17, 'luz': 822, 'brun': 185, 'dire': 439, 'robert': 1249, 'firm': 618, 'execu': 560, 'espec': 535, 'energ': 502, 'garant': 650, 'norteameric': 942, 'sobr assunt': 1320, 'vi': 1456, 'bernard': 169, 'engenh': 506, 'penal': 1019, 'terren': 1380, 'vantag': 1436, 'sustent': 1354, 'nunc': 950, 'defês expresid': 368, 'institut lul': 726, 'conduz': 289, 'escritçüri': 530, 'igual': 698, 'recent': 1188, 'muit': 898, 'doi ano': 459, 'pag propin': 987, 'cad vez': 190, 'polçð brasil': 1064, 'prest depo': 1102, 'propost': 1142, 'ant': 77, 'ocup': 961, 'rua': 1257, 'fug': 642, 'venezuel': 1446, 'capit': 208, 'aliment': 57, 'fiz': 620, 'abrig': 6, 'zon': 1482, 'dificuldad': 432, 'repçürt': 1223, 'cart': 215, 'cust': 351, 'milh': 869, 'qued': 1171, 'reduz': 1197, 'gast': 652, 'univers': 1423, 'abril': 7, 'verb': 1448, 'petrobr': 1039, 'tard': 1361, 'pedr': 1015, 'lavajat': 786, 'ferr': 605, 'sant': 1267, 'tard dest': 1362, 'palocc': 992, 'financi': 617, 'antoni': 81, 'conden': 287, 'junh': 770, 'odebrecht': 962, 'escrit': 529, 'prçüpri': 1152, 'antoni palocc': 82, 'revist vej': 1240, 'lul dilm': 817, 'passiv lav': 1005, 'bols': 175, 'segur': 1277, 'preçõ': 1109, 'motor': 891, 'franc': 637, 'atriz': 136, 'explic': 571, 'decret': 363, 'dçðv': 470, 'sob': 1318, 'control': 316, 'estranh': 548, 'aleg': 50, 'jorn': 760, 'eldor': 479, 'fm': 622, 'cliqu': 251, 'play': 1049, 'irregular': 745, 'ger': 656, 'prçüpr': 1151, 'empreg': 497, 'decisçæ': 360, 'terc': 1375, 'coment': 264, 'abord': 4, 'jorn eldor': 761, 'eldor eldor': 480, 'eldor fm': 481, 'çÿ ouv': 1488, 'ouv cliqu': 984, 'cliqu aqu': 252, 'aqu segu': 106, 'segu play': 1273, 'play ouv': 1050, 'aqu abaix': 104, 'abaix çðntegr': 1, 'çðntegr eldor': 1485, 'justiçõ feder': 776, 'fal sobr': 583, 'denunci': 382, 'habe': 680, 'corpu': 326, 'imag': 701, 'oliv': 968, 'pratic': 1084, 'fraud': 640, 'receb propin': 1186, 'habe corpu': 681, 'seman pass': 1282, 'sul': 1341, 'sigl': 1307, 'motiv': 890, 'classific': 248, 'apel': 88, 'sair': 1263, 'ambi': 65, 'concord': 285, 'ter sid': 1374, 'assin': 120, 'idad': 694, 'mçðn': 904, 'provisçür': 1149, 'acess': 14, 'jornal': 762, 'esper': 537, 'alter': 59, 'planej': 1047, 'benefici': 167, 'anteri': 79, 'serviçõ': 1297, 'hav sid': 683, 'necess': 915, 'oportun': 975, 'sobreviv': 1321, 'sinal': 1314, 'ativ': 134, 'profiss': 1130, 'nasc': 911, 'vei': 1440, 'estud': 549, 'tçðtul': 1420, 'quer': 1172, 'nenhum': 920, 'marc': 838, 'quart': 1166, 'and': 73, 'escap': 523, 'iri': 744, 'curs': 349, 'marid': 841, 'alun': 61, 'aprend': 96, 'ganh': 649, 'expect': 570, 'mater': 847, 'nçðvel': 951, 'leit': 791, 'guerr': 679, 'extrem': 579, 'relacion': 1210, 'cabeçõ': 188, 'pud': 1159, 'york': 1480, 'cois': 255, 'surg': 1349, 'tecnolog': 1365, 'fornec': 630, 'ressalt': 1230, 'mat': 846, 'europ': 552, 'term': 1376, 'linh': 806, 'car': 209, 'doençõ': 457, 'alegr': 51, 'pes': 1034, 'verdad': 1450, 'impact': 704, 'rend': 1217, 'destin': 412, 'sei': 1279, 'ir': 743, 'nest ano': 923, 'vist': 1467, 'cl': 246, 'convenc': 317, 'daquel': 355, 'quis': 1179, 'centr': 226, 'papel': 994, 'rest': 1231, 'circul': 243, 'livr': 809, 'defês lul': 369, 'juiz feder': 766, 'feder mor': 599, 'dor': 464, 'question': 1173, 'manifestaçõçæ': 835, 'barr': 157, 'folh': 625, 'viu': 1469, 'çðnd': 1483, 'abr': 5, 'sub': 1335, 'legend': 788, 'pgr': 1042, 'rep': 1218, 'cass': 220, 'receb milhçæ': 1185, 'procurad geral': 1123, 'encerr': 500, 'exib': 566, 'tim': 1388, 'lig': 801, 'metr': 864, 'quadr': 1162, 'mim': 872, 'film': 612, 'argument': 108, 'retom': 1235, 'discurs': 443, 'inclu': 712, 'aparent': 86, 'gilm': 659, 'mend': 855, 'pap': 993, 'dirig': 442, 'coleg': 257, 'alexandr': 53, 'coorden': 321, 'operaçõçæ': 974, 'instituiçõçæ': 724, 'novembr': 948, 'derrot': 388, 'ministr stf': 878, 'ministr gilm': 877, 'gilm mend': 660, 'drog': 465, 'internac': 734, 'mçðd': 903, 'particip': 1001, 'dur ano': 469, 'protest': 1145, 'espalh': 533, 'minut': 880, 'interromp': 736, 'som': 1328, 'grit': 675, 'fer': 603, 'comunidad': 282, 'dezen': 425, 'condiçõçæ': 288, 'interess': 730, 'human': 693, 'produz': 1128, 'prev': 1106, 'difçðcil': 433, 'impost': 709, 'conflit': 293, 'capac': 206, 'alcanc': 47, 'anal': 71, 'poder': 1060, 'pençðnsul': 1021, 'exercçðci': 563, 'artist': 113, 'band': 155, 'voz': 1475, 'utiliz': 1430, 'can': 201, 'cuj': 342, 'esquerd': 540, 'carvalh': 216, 'vitçür': 1468, 'so': 1317, 'negoci': 917, 'acert': 13, 'pen': 1018, 'marcel': 839, 'ameaçõ': 67, 'andrad': 74, 'favor': 592, 'espaçõ': 534, 'record': 1191, 'prova': 1148, 'marcel odebrecht': 840, 'evit': 554, 'turm': 1417, 'limin': 803, 'vicepresid': 1461, 'justific': 774, 'dev ser': 420, 'process lav': 1120, 'gleis': 661, 'hoffmann': 686, 'demal': 378, 'saib': 1262, 'corr': 327, 'gleis hoffmann': 662, 'nev': 931, 'presençõ': 1094, 'complex': 273, 'cole': 256, 'transform': 1399, 'lad': 781, 'admit': 29, 'telefon': 1366, 'retorn': 1236, 'derrub': 389, 'psdbmg': 1156, 'magistr': 827, 'escrev': 528, 'sen nev': 1285, 'nev psdbmg': 932, 'deput feder': 387, 'min geral': 874, 'negr': 918, 'assassinat': 116, 'toc': 1391, 'usa': 1427, 'art': 111, 'imagin': 702, 'pequen': 1022, 'traz': 1404, 'narr': 910, 'antçïni': 83, 'mens': 858, 'viag': 1458, 'senh': 1288, 'independ': 714, 'font': 626, 'conf': 290, 'comun': 280, 'sent': 1289, 'pra': 1083, 'clim': 250, 'planet': 1048, 'consid': 303, 'atitud': 133, 'bah': 150, 'convid': 319, 'investig lav': 740, 'pec': 1013, 'for': 627, 'conclu': 284, 'soment': 1329, 'comum': 279, 'roub': 1255, 'for privilegi': 628, 'rj': 1248, 'corp': 325, 'zavasck': 1481, 'port alegr': 1073, 'teor zavasck': 1372, 'chor': 238, 'caiu': 193, 'brig': 183, 'vou': 1474, 'jardim': 751, 'exdire': 559, 'consult': 308, 'triplex': 1410, 'ser pres': 1292, 'administr': 28, 'cancel': 203, 'reag': 1180, 'autoridad': 141, 'carn': 212, 'proced': 1117, 'gross': 676, 'deflagr': 366, 'cit': 244, 'liberdad': 797, 'objet': 955, 'conform': 294, 'seg': 1271, 'gener': 654, 'comet': 266, 'risc': 1247, 'violent': 1464, 'abus': 10, 'confront': 295, 'aeronav': 32, 'proteg': 1144, 'convoc': 320, 'avis': 146, 'alert': 52, 'juçðz': 777, 'receit': 1187, 'agir': 40, 'show': 1303, 'diret': 441, 'pronunci': 1140, 'janot': 750, 'procuradorger': 1124, 'diferençõ': 431, 'mpf': 895, 'palestr': 991, 'procuradorger rodrig': 1125, 'rodrig janot': 1252, 'feder mpf': 600, 'destaqu': 411, 'retir': 1234, 'lug': 813, 'observ': 958, 'mass': 845, 'aplic': 91, 'artig': 112, 'pert': 1031, 'tal': 1358, 'golp': 664, 'arm nucle': 110, 'teatr': 1364, 'exteri': 577, 'simpl': 1312, 'desej': 398, 'fog': 624, 'vam': 1435, 'cruz': 339, 'revolt': 1241, 'celul': 223, 'afet': 35, 'exig': 567, 'sistem': 1315, 'interi': 731, 'assalt': 114, 'bat': 161, 'padilh': 985, 'crçð': 340, 'cheg çÿ': 236, 'cai': 192, 'cofr': 254, 'super': 1343, 'promet': 1135, 'pal': 989, 'branc': 179, 'carreg': 214, 'bolsonar': 176, 'jair': 746, 'liderançõ': 800, 'gerald': 658, 'alckmin': 49, 'permanec': 1029, 'jair bolsonar': 747, 'adot': 30, 'obt': 959, 'palavr': 990, 'cas civil': 218, 'pov': 1081, 'pov brasil': 1082, 'dest quintaf': 408, 'venc': 1444, 'vic': 1460, 'chap': 233, 'fam': 586, 'nobr': 934, 'tant': 1360, 'emit': 495, 'olh': 967, 'transmit': 1400, 'fest': 606, 'defin': 365, 'dest quartaf': 407, 'usou': 1429, 'email': 490, 'rum': 1258, 'pertenc': 1032, 'litor': 808, 'guard': 678, 'noit dest': 937, 'dest terçõaf': 409, 'peçõ': 1040, 'pi': 1043, 'moral': 886, 'perceb': 1024, 'elev': 488, 'jamal': 748, 'entant': 509, 'base': 159, 'resum': 1233, 'chin': 237, 'escal': 522, 'compromiss': 277, 'madrug': 826, 'transfer': 1398, 'repass': 1219, 'recus': 1194, 'mod': 881, 'assassin': 115, 'aeroport': 33, 'via': 1457, 'compartilh': 271, 'renan': 1215, 'calh': 196, 'renan calh': 1216, 'int': 727, 'cerimçïn': 229, 'dev ter': 421, 'fras': 639, 'acrescent': 24, 'seguint': 1274, 'twitt': 1419, 'sociedad': 1323, 'sen renan': 1286, 'vaz': 1439, 'sergi': 1293, 'constituc': 306, 'acion': 18, 'ced': 222, 'voo': 1472, 'fachin': 581, 'exat': 556, 'trech': 1405, 'ministr edson': 876, 'edson fachin': 475, 'vçðde abaix': 1477, 'at': 126, 'verd': 1449, 'desp': 403, 'estad': 544, 'presçðdi': 1103, 'assessor': 118, 'previst': 1108, 'bairr': 151, 'quil': 1176, 'pret': 1104, 'refer': 1198, 'sal': 1265, 'past': 1006, 'souz': 1331, 'det': 415, 'prim vez': 1111, 'rio grand': 1245, 'doaçõçæ': 455, 'instituc': 723, 'campanh eleitor': 200, 'ar': 107, 'roch': 1250, 'rela lav': 1209, 'particul': 1002, 'extr': 578, 'viaj': 1459, 'espçðrit': 538, 'ric': 1242, 'bel': 164, 'imediat': 703, 'sonh': 1330, 'orient': 979, 'vermelh': 1453, 'chanc': 232, 'delcçðdi': 373, 'amar': 64, 'delcçðdi amar': 374, 'exclus': 557, 'procuradoriager': 1126, 'cal': 195, 'cuid': 341, 'divid': 452, 'foc': 623, 'brinc': 184, 'suger': 1340, 'log': 811, 'desaparec': 392, 'estrang': 547, 'part trabalh': 1000, 'cen': 224, 'jov': 763, 'per': 1023, 'propriedad': 1143, 'surpreend': 1350, 'caminh': 197, 'gabinet': 648, 'core sul': 324, 'sulcore': 1342, 'atac': 127, 'questçæ': 1175, 'flagr': 621, 'sug': 1339, 'sergi mor': 1294, 'vag': 1431, 'limp': 805, 'candidat çÿ': 205, 'mach': 825, 'aguard': 44, 'romer': 1254, 'sit': 1316, 'antagon': 78, 'lider': 799, 'francisc': 638, 'rejeit': 1207, 'aviçæ': 147, 'dign': 435, 'interin': 732, 'prçüx dia': 1154, 'question sobr': 1174, 'merec': 861, 'graçõ': 674, 'elogi': 489, 'profund': 1131, 'impeachment dilm': 706, 'comet crim': 267, 'nome': 939, 'serr': 1295, 'jeit': 754, 'devolv': 422, 'pod est': 1057, 'descobr': 395, 'destru': 413, 'tratas': 1403, 'absurd': 9, 'concorr': 286, 'presid dilm': 1096, 'ilçðcit': 700, 'efeit': 478, 'pront': 1138, 'embaix': 492, 'religi': 1214, 'just': 773, 'centen': 225, 'tod mund': 1393, 'presid sen': 1098, 'trop': 1412, 'paz': 1010, 'igrej': 697, 'pretend': 1105, 'new': 933, 'pronunc': 1139, 'esclarec': 524, 'assist vçðde': 122, 'curt': 350, 'forçõ arm': 633, 'pobr': 1055, 'aposent': 94, 'desabaf': 390, 'atiba': 131, 'sçðti': 1355, 'atent': 130, 'desesper': 402, 'sçðti atiba': 1356, 'rec': 1183, 'colun': 259, 'dand': 354, 'gravaçõçæ': 673, 'exam': 555, 'signif': 1308, 'hotel': 692, 'cim': 241, 'abandon': 2, 'plen': 1051, 'dçül': 471, 'honest': 689, 'president': 1100, 'departament': 383, 'demonstr': 380, 'dig': 434, 'vergonh': 1452, 'escond': 527, 'simples': 1313, 'aproximad': 99, 'olçðmp': 969, 'infeliz': 717, 'corrupt': 328, 'urgent': 1424, 'enfim': 503, 'sr': 1333, 'etc': 550}\n"
          ],
          "name": "stdout"
        }
      ]
    },
    {
      "cell_type": "code",
      "metadata": {
        "id": "TxlSGEgPghxu",
        "colab_type": "code",
        "colab": {
          "base_uri": "https://localhost:8080/",
          "height": 945
        },
        "outputId": "28688c40-149f-480a-d66f-5e9c3e8b4001"
      },
      "source": [
        "print(Train_X_Tfidf)"
      ],
      "execution_count": null,
      "outputs": [
        {
          "output_type": "stream",
          "text": [
            "  (0, 1460)\t0.6972839050648637\n",
            "  (0, 1351)\t0.2674025259375641\n",
            "  (0, 1318)\t0.13682883492834833\n",
            "  (0, 1066)\t0.1795255834160773\n",
            "  (0, 1065)\t0.1038872134493406\n",
            "  (0, 916)\t0.13343079598069527\n",
            "  (0, 899)\t0.25748649021861103\n",
            "  (0, 874)\t0.17781135154924593\n",
            "  (0, 873)\t0.1509181682092473\n",
            "  (0, 657)\t0.13151092862811817\n",
            "  (0, 467)\t0.1887729208250111\n",
            "  (0, 385)\t0.12647641309807464\n",
            "  (0, 313)\t0.08839956280500522\n",
            "  (0, 245)\t0.13202379593448432\n",
            "  (0, 201)\t0.32247914403402345\n",
            "  (0, 43)\t0.18786034864745688\n",
            "  (0, 21)\t0.09270916347719332\n",
            "  (1, 1486)\t0.03176956121546657\n",
            "  (1, 1470)\t0.05998849808722012\n",
            "  (1, 1454)\t0.049069584342584405\n",
            "  (1, 1434)\t0.056330090996323835\n",
            "  (1, 1432)\t0.047402488815185266\n",
            "  (1, 1425)\t0.054278058898577786\n",
            "  (1, 1416)\t0.055842952230265336\n",
            "  (1, 1406)\t0.05012211445350184\n",
            "  :\t:\n",
            "  (5036, 1003)\t0.07253365297297552\n",
            "  (5036, 981)\t0.06605984787891547\n",
            "  (5036, 967)\t0.12450729874908215\n",
            "  (5036, 948)\t0.12423593551277134\n",
            "  (5036, 929)\t0.11853399455621234\n",
            "  (5036, 922)\t0.06605984787891547\n",
            "  (5036, 875)\t0.152734908209476\n",
            "  (5036, 862)\t0.09711845154538121\n",
            "  (5036, 848)\t0.09701923352810687\n",
            "  (5036, 684)\t0.12753355092468394\n",
            "  (5036, 667)\t0.13111636837373228\n",
            "  (5036, 652)\t0.12926455547075633\n",
            "  (5036, 595)\t0.266571192627692\n",
            "  (5036, 509)\t0.12975646194636287\n",
            "  (5036, 454)\t0.05943777884712341\n",
            "  (5036, 420)\t0.11612729204204426\n",
            "  (5036, 419)\t0.08013345681443398\n",
            "  (5036, 310)\t0.07803716069019413\n",
            "  (5036, 296)\t0.10819584455902126\n",
            "  (5036, 217)\t0.06279870450421472\n",
            "  (5036, 98)\t0.11391675985701721\n",
            "  (5036, 60)\t0.14992285906381791\n",
            "  (5036, 41)\t0.08868549562364315\n",
            "  (5036, 29)\t0.1323593597252567\n",
            "  (5036, 23)\t0.22764923364566864\n"
          ],
          "name": "stdout"
        }
      ]
    },
    {
      "cell_type": "code",
      "metadata": {
        "id": "_F6zJ67zgjrP",
        "colab_type": "code",
        "colab": {
          "base_uri": "https://localhost:8080/",
          "height": 54
        },
        "outputId": "f04fe470-5803-4813-efab-5e1f2400cb93"
      },
      "source": [
        "# Classificador - Algoritmo - SVM\n",
        "# ajusta o conjunto de dados de treinamento no classificador\n",
        "SVM = svm.SVC(C=1.0, kernel='linear', degree=3, gamma='auto')\n",
        "SVM.fit(Train_X_Tfidf,Train_Y)\n",
        "# prediz os rotulos no conjunto de dados de validacao\n",
        "predictions_SVM = SVM.predict(Test_X_Tfidf)\n",
        "print(\"SVM Accuracy Score -> \",accuracy_score(predictions_SVM, Test_Y)*100)\n",
        "print ( \"F1 score {:.4}%\".format( f1_score(Test_Y, predictions_SVM, average='macro')*100 ) )"
      ],
      "execution_count": null,
      "outputs": [
        {
          "output_type": "stream",
          "text": [
            "SVM Accuracy Score ->  89.21296296296296\n",
            "F1 score 89.21%\n"
          ],
          "name": "stdout"
        }
      ]
    },
    {
      "cell_type": "code",
      "metadata": {
        "id": "Y06y2G7H7ZPn",
        "colab_type": "code",
        "colab": {
          "base_uri": "https://localhost:8080/",
          "height": 181
        },
        "outputId": "d35f6326-c80c-4725-842e-c3d2eec8542b"
      },
      "source": [
        "LABELS = [0, 1]\n",
        "RELATED = [0, 1, 2]\n",
        "\n",
        "def print_confusion_matrix(cm):\n",
        "    lines = ['CONFUSION MATRIX:']\n",
        "    header = \"|{:^11}|{:^11}|{:^11}|\".format('', *LABELS)\n",
        "    line_len = len(header)\n",
        "    lines.append(\"-\"*line_len)\n",
        "    lines.append(header)\n",
        "    lines.append(\"-\"*line_len)\n",
        "    hit = 0\n",
        "    total = 0\n",
        "    for i, row in enumerate(cm):\n",
        "        hit += row[i]\n",
        "        total += sum(row)\n",
        "        lines.append(\"|{:^11}|{:^11}|{:^11}|\".format(LABELS[i], *row))\n",
        "        lines.append(\"-\"*line_len)\n",
        "    lines.append(\"ACCURACY: {:.3f}\".format((hit / total)*100) + \"%\")\n",
        "    print('\\n'.join(lines))\n",
        "\n",
        "def fnc_score_cm(predicted_labels, target):\n",
        "    score = 0.0\n",
        "    cm = [[0, 0],\n",
        "          [0, 0]]\n",
        "    for i, (g, t) in enumerate(zip(predicted_labels, target)):\n",
        "            if g == t:\n",
        "                score += 0.25\n",
        "                if g != 3:\n",
        "                    score += 0.50\n",
        "            if g in RELATED and t in RELATED:\n",
        "                score += 0.25\n",
        "\n",
        "            cm[g][t] += 1\n",
        "    return score,  cm\n",
        "\n",
        "fnc_score, cm_test = fnc_score_cm(predictions_SVM, Test_Y)\n",
        "print_confusion_matrix(cm_test)"
      ],
      "execution_count": null,
      "outputs": [
        {
          "output_type": "stream",
          "text": [
            "CONFUSION MATRIX:\n",
            "-------------------------------------\n",
            "|           |     0     |     1     |\n",
            "-------------------------------------\n",
            "|     0     |    981    |    122    |\n",
            "-------------------------------------\n",
            "|     1     |    111    |    946    |\n",
            "-------------------------------------\n",
            "ACCURACY: 89.213%\n"
          ],
          "name": "stdout"
        }
      ]
    },
    {
      "cell_type": "code",
      "metadata": {
        "id": "h1gF2phii6oh",
        "colab_type": "code",
        "colab": {}
      },
      "source": [
        ""
      ],
      "execution_count": null,
      "outputs": []
    }
  ]
}