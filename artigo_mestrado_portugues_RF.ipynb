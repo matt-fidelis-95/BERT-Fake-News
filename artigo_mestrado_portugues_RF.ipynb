{
  "nbformat": 4,
  "nbformat_minor": 0,
  "metadata": {
    "anaconda-cloud": {},
    "kernelspec": {
      "display_name": "Python [conda env:dsi]",
      "language": "python",
      "name": "conda-env-dsi-py"
    },
    "language_info": {
      "codemirror_mode": {
        "name": "ipython",
        "version": 2
      },
      "file_extension": ".py",
      "mimetype": "text/x-python",
      "name": "python",
      "nbconvert_exporter": "python",
      "pygments_lexer": "ipython2",
      "version": "2.7.12"
    },
    "colab": {
      "name": "artigo_mestrado_portugues_RF.ipynb",
      "provenance": [],
      "include_colab_link": true
    }
  },
  "cells": [
    {
      "cell_type": "markdown",
      "metadata": {
        "id": "view-in-github",
        "colab_type": "text"
      },
      "source": [
        "<a href=\"https://colab.research.google.com/github/matt-fidelis-95/BERT-Fake-News/blob/master/artigo_mestrado_portugues_RF.ipynb\" target=\"_parent\"><img src=\"https://colab.research.google.com/assets/colab-badge.svg\" alt=\"Open In Colab\"/></a>"
      ]
    },
    {
      "cell_type": "markdown",
      "metadata": {
        "id": "k_IdLScMLAIz",
        "colab_type": "text"
      },
      "source": [
        "# Combina o conjunto de dados e a modelagem\n"
      ]
    },
    {
      "cell_type": "code",
      "metadata": {
        "id": "Z4fiEz0OLAI1",
        "colab_type": "code",
        "colab": {
          "base_uri": "https://localhost:8080/",
          "height": 145
        },
        "outputId": "1da671b0-6bba-4cad-a693-eeb357f39970"
      },
      "source": [
        "import pandas as pd\n",
        "import numpy as np\n",
        "from sklearn.utils import shuffle\n",
        "from sklearn.feature_extraction.text import TfidfVectorizer\n",
        "from sklearn.metrics import f1_score, accuracy_score , recall_score , precision_score\n",
        "from sklearn.ensemble import RandomForestClassifier\n",
        "import nltk\n",
        "\n",
        "from nltk.tokenize import word_tokenize\n",
        "from nltk.corpus import stopwords\n",
        "from nltk.stem import RSLPStemmer\n",
        "\n",
        "nltk.download('punkt')\n",
        "nltk.download('rslp')\n",
        "nltk.download('stopwords')"
      ],
      "execution_count": null,
      "outputs": [
        {
          "output_type": "stream",
          "text": [
            "[nltk_data] Downloading package punkt to /root/nltk_data...\n",
            "[nltk_data]   Unzipping tokenizers/punkt.zip.\n",
            "[nltk_data] Downloading package rslp to /root/nltk_data...\n",
            "[nltk_data]   Unzipping stemmers/rslp.zip.\n",
            "[nltk_data] Downloading package stopwords to /root/nltk_data...\n",
            "[nltk_data]   Unzipping corpora/stopwords.zip.\n"
          ],
          "name": "stdout"
        },
        {
          "output_type": "execute_result",
          "data": {
            "text/plain": [
              "True"
            ]
          },
          "metadata": {
            "tags": []
          },
          "execution_count": 1
        }
      ]
    },
    {
      "cell_type": "code",
      "metadata": {
        "id": "mHSBTadNFaAr",
        "colab_type": "code",
        "colab": {
          "base_uri": "https://localhost:8080/",
          "height": 128
        },
        "outputId": "51779aa9-98b7-4797-9390-d46fb93460b0"
      },
      "source": [
        "import os\n",
        "from google.colab import drive\n",
        "drive.mount('/content/drive')"
      ],
      "execution_count": null,
      "outputs": [
        {
          "output_type": "stream",
          "text": [
            "Go to this URL in a browser: https://accounts.google.com/o/oauth2/auth?client_id=947318989803-6bn6qk8qdgf4n4g3pfee6491hc0brc4i.apps.googleusercontent.com&redirect_uri=urn%3aietf%3awg%3aoauth%3a2.0%3aoob&response_type=code&scope=email%20https%3a%2f%2fwww.googleapis.com%2fauth%2fdocs.test%20https%3a%2f%2fwww.googleapis.com%2fauth%2fdrive%20https%3a%2f%2fwww.googleapis.com%2fauth%2fdrive.photos.readonly%20https%3a%2f%2fwww.googleapis.com%2fauth%2fpeopleapi.readonly\n",
            "\n",
            "Enter your authorization code:\n",
            "··········\n",
            "Mounted at /content/drive\n"
          ],
          "name": "stdout"
        }
      ]
    },
    {
      "cell_type": "code",
      "metadata": {
        "id": "58JZcuoeFaiQ",
        "colab_type": "code",
        "colab": {}
      },
      "source": [
        "os.chdir('/content/drive/My Drive/script_python')"
      ],
      "execution_count": null,
      "outputs": []
    },
    {
      "cell_type": "code",
      "metadata": {
        "id": "-MH_jfgBLAJ_",
        "colab_type": "code",
        "colab": {}
      },
      "source": [
        "# le os conjuntos de dados\n",
        "from tqdm import tqdm\n",
        "\n",
        "from sklearn.model_selection import train_test_split\n",
        "\n",
        "def fnc(path):\n",
        "\n",
        "    h = []\n",
        "    b = []\n",
        "    l = []\n",
        "    with open(path,encoding=\"ISO-8859-1\") as fdata:  # Body ID,articleBody\n",
        "        data = fdata.readlines()\n",
        "    for line in data:\n",
        "        stripped_line = line.strip()\n",
        "        li = line.split(';')\n",
        "        if(len(li) == 3):\n",
        "          rm_brkl = (li[2]).strip()\n",
        "          if rm_brkl == '-1':\n",
        "            l.append(0)\n",
        "          else:\n",
        "            l.append(1)\n",
        "          h.append(li[0])\n",
        "          b.append(li[1])\n",
        "\n",
        "    return h, b, l\n",
        "\n",
        "#headlines, bodies, labels = fnc('Facom_Vitor.csv')\n",
        "headlines_aux, bodies_aux, labels_aux = fnc('brCorpus.csv')\n",
        "#headlines.extend(headlines_aux)\n",
        "#bodies.extend(bodies_aux)\n",
        "#labels.extend(labels_aux)\n",
        "list_of_tuples = list(zip(headlines_aux, bodies_aux, labels_aux))#list_of_tuples = list(zip(headlines, bodies, labels))\n",
        "df_all = pd.DataFrame(list_of_tuples, columns=['id', 'text', 'label'])"
      ],
      "execution_count": null,
      "outputs": []
    },
    {
      "cell_type": "code",
      "metadata": {
        "id": "ieujAEsZRF_M",
        "colab_type": "code",
        "colab": {}
      },
      "source": [
        "# Passo - a : Remove linhas em branco\n",
        "df_all['text'].dropna(inplace=True)\n",
        "# Passo - c : Tokenizacao : Cada entrada no corpus e quebrada em um conjunto de palavras\n",
        "df_all['text']= [word_tokenize(entry, language = 'portuguese') for entry in df_all['text']]\n",
        "# Passo - d : Remove palavras de parada, nao-numericos e faz o Stemming.\n",
        "\n",
        "for index,entry in enumerate(df_all['text']):\n",
        "    Final_words = []\n",
        "    # Inicializa o stemmer para portugues RSLPStemmer()\n",
        "    word_RSLPStemmer = RSLPStemmer()\n",
        "    for word in entry:\n",
        "        # Checa se e uma palavra de parada e considera apenas o alfabeto\n",
        "        if word not in stopwords.words('portuguese') and word.isalpha():\n",
        "            word_Final = word_RSLPStemmer.stem(word)\n",
        "            Final_words.append(word_Final)\n",
        "    # O conjunto final de palavras processadas para cada iteracao sera salvo em 'text_final'\n",
        "    df_all.loc[index,'text_final'] = str(Final_words)"
      ],
      "execution_count": null,
      "outputs": []
    },
    {
      "cell_type": "code",
      "metadata": {
        "id": "EqhD7P-XLAKC",
        "colab_type": "code",
        "colab": {
          "base_uri": "https://localhost:8080/",
          "height": 235
        },
        "outputId": "657a2454-ebaf-4547-f821-7da9d725874c"
      },
      "source": [
        "\n",
        "print (df_all.shape)\n",
        "df_all.info()"
      ],
      "execution_count": null,
      "outputs": [
        {
          "output_type": "stream",
          "text": [
            "(7197, 4)\n",
            "<class 'pandas.core.frame.DataFrame'>\n",
            "RangeIndex: 7197 entries, 0 to 7196\n",
            "Data columns (total 4 columns):\n",
            " #   Column      Non-Null Count  Dtype \n",
            "---  ------      --------------  ----- \n",
            " 0   id          7197 non-null   object\n",
            " 1   text        7197 non-null   object\n",
            " 2   label       7197 non-null   int64 \n",
            " 3   text_final  7197 non-null   object\n",
            "dtypes: int64(1), object(3)\n",
            "memory usage: 225.0+ KB\n"
          ],
          "name": "stdout"
        }
      ]
    },
    {
      "cell_type": "markdown",
      "metadata": {
        "id": "fWOflC8fLAKM",
        "colab_type": "text"
      },
      "source": [
        "# Modeling"
      ]
    },
    {
      "cell_type": "code",
      "metadata": {
        "id": "cq8v8TUXLAKP",
        "colab_type": "code",
        "colab": {}
      },
      "source": [
        "X_body_text = df_all['text_final']\n",
        "y = df_all['label']"
      ],
      "execution_count": null,
      "outputs": []
    },
    {
      "cell_type": "code",
      "metadata": {
        "id": "hkYw0DZ7LAKT",
        "colab_type": "code",
        "colab": {}
      },
      "source": [
        "tfidf = TfidfVectorizer(ngram_range=(1,2),max_df= 0.85, min_df= 0.01)"
      ],
      "execution_count": null,
      "outputs": []
    },
    {
      "cell_type": "code",
      "metadata": {
        "id": "bbgqfMTLLAKX",
        "colab_type": "code",
        "colab": {}
      },
      "source": [
        "X_body_tfidf = tfidf.fit_transform(X_body_text)"
      ],
      "execution_count": null,
      "outputs": []
    },
    {
      "cell_type": "code",
      "metadata": {
        "id": "h8sccDW6LAKb",
        "colab_type": "code",
        "colab": {}
      },
      "source": [
        "X_body_tfidf_train, X_body_tfidf_test, y_body_train, y_body_test = train_test_split(X_body_tfidf,y, test_size = 0.3, random_state=1234)"
      ],
      "execution_count": null,
      "outputs": []
    },
    {
      "cell_type": "markdown",
      "metadata": {
        "id": "HDWCj9_BLALz",
        "colab_type": "text"
      },
      "source": [
        "# Random Forest\n",
        "##### Usa apenas o corpo das notícias"
      ]
    },
    {
      "cell_type": "code",
      "metadata": {
        "id": "2ILuMqcGLALz",
        "colab_type": "code",
        "colab": {}
      },
      "source": [
        "rcf_body = RandomForestClassifier(n_estimators=100,n_jobs=3)"
      ],
      "execution_count": null,
      "outputs": []
    },
    {
      "cell_type": "code",
      "metadata": {
        "id": "63cVawaaLAL3",
        "colab_type": "code",
        "colab": {}
      },
      "source": [
        "rcf_body.fit(X_body_tfidf_train, y_body_train)\n",
        "y_rc_body_pred = rcf_body.predict(X_body_tfidf_test)"
      ],
      "execution_count": null,
      "outputs": []
    },
    {
      "cell_type": "code",
      "metadata": {
        "id": "JmuBttl7LAL-",
        "colab_type": "code",
        "colab": {
          "base_uri": "https://localhost:8080/",
          "height": 90
        },
        "outputId": "5832cccb-c43d-4db3-8cad-c4d774bdcbfa"
      },
      "source": [
        "# printa as metricas\n",
        "print (\"Random Forest F1 and Accuracy Scores : \\n\")\n",
        "print ( \"F1 score {:.4}%\".format( f1_score(y_body_test, y_rc_body_pred, average='macro')*100 ) )\n",
        "print ( \"Accuracy score {:.4}%\".format(accuracy_score(y_body_test, y_rc_body_pred)*100) )"
      ],
      "execution_count": null,
      "outputs": [
        {
          "output_type": "stream",
          "text": [
            "Random Forest F1 and Accuracy Scores : \n",
            "\n",
            "F1 score 86.8%\n",
            "Accuracy score 86.81%\n"
          ],
          "name": "stdout"
        }
      ]
    },
    {
      "cell_type": "code",
      "metadata": {
        "id": "Y06y2G7H7ZPn",
        "colab_type": "code",
        "colab": {
          "base_uri": "https://localhost:8080/",
          "height": 181
        },
        "outputId": "7a0ee884-7cce-45a1-9879-3f6813934c29"
      },
      "source": [
        "LABELS = [0, 1]\n",
        "RELATED = [0, 1, 2]\n",
        "\n",
        "def print_confusion_matrix(cm):\n",
        "    lines = ['CONFUSION MATRIX:']\n",
        "    header = \"|{:^11}|{:^11}|{:^11}|\".format('', *LABELS)\n",
        "    line_len = len(header)\n",
        "    lines.append(\"-\"*line_len)\n",
        "    lines.append(header)\n",
        "    lines.append(\"-\"*line_len)\n",
        "    hit = 0\n",
        "    total = 0\n",
        "    for i, row in enumerate(cm):\n",
        "        hit += row[i]\n",
        "        total += sum(row)\n",
        "        lines.append(\"|{:^11}|{:^11}|{:^11}|\".format(LABELS[i], *row))\n",
        "        lines.append(\"-\"*line_len)\n",
        "    lines.append(\"ACCURACY: {:.3f}\".format((hit / total)*100) + \"%\")\n",
        "    print('\\n'.join(lines))\n",
        "\n",
        "def fnc_score_cm(predicted_labels, target):\n",
        "    score = 0.0\n",
        "    cm = [[0, 0],\n",
        "          [0, 0]]\n",
        "    for i, (g, t) in enumerate(zip(predicted_labels, target)):\n",
        "            if g == t:\n",
        "                score += 0.25\n",
        "                if g != 3:\n",
        "                    score += 0.50\n",
        "            if g in RELATED and t in RELATED:\n",
        "                score += 0.25\n",
        "\n",
        "            cm[g][t] += 1\n",
        "    return score,  cm\n",
        "\n",
        "fnc_score, cm_test = fnc_score_cm(y_rc_body_pred, y_body_test)\n",
        "print_confusion_matrix(cm_test)"
      ],
      "execution_count": null,
      "outputs": [
        {
          "output_type": "stream",
          "text": [
            "CONFUSION MATRIX:\n",
            "-------------------------------------\n",
            "|           |     0     |     1     |\n",
            "-------------------------------------\n",
            "|     0     |    955    |    148    |\n",
            "-------------------------------------\n",
            "|     1     |    137    |    920    |\n",
            "-------------------------------------\n",
            "ACCURACY: 86.806%\n"
          ],
          "name": "stdout"
        }
      ]
    }
  ]
}